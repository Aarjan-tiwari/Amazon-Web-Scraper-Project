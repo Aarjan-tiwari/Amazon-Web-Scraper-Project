{
 "cells": [
  {
   "cell_type": "code",
   "execution_count": null,
   "id": "40c23c11",
   "metadata": {},
   "outputs": [],
   "source": [
    "# import  Libraries\n",
    "\n",
    "from bs4 import BeautifulSoup\n",
    "import requests\n",
    "import time \n",
    "import datetime\n",
    "\n",
    "import smtplib\n"
   ]
  },
  {
   "cell_type": "code",
   "execution_count": null,
   "id": "a440ee86",
   "metadata": {},
   "outputs": [],
   "source": [
    "\n",
    "\n",
    "URL = 'https://www.amazon.com/Funny-Data-Systems-Business-Analyst/dp/B07FNW9FGJ/ref=sr_1_3?dchild=1&keywords=data%2Banalyst%2Btshirt&qid=1626655184&sr=8-3&customId=B0752XJYNL&th=1'\n",
    "\n",
    "headers = {\n",
    "    \"User-Agent\": \"Mozilla/5.0 (Windows NT 10.0; Win64; x64) AppleWebKit/537.36 (KHTML, like Gecko) Chrome/78.0.3904.108 Safari/537.36\", \n",
    "    \"Accept-Encoding\": \"gzip, deflate\", \n",
    "    \"Accept\": \"text/html,application/xhtml+xml,application/xml;q=0.9,*/*;q=0.8\", \n",
    "    \"DNT\": \"1\", \n",
    "    \"Connection\": \"close\", \n",
    "    \"Upgrade-Insecure-Requests\": \"1\"\n",
    "}\n",
    "\n",
    "page = requests.get(URL, headers=headers)\n",
    "soup = BeautifulSoup(page.content, \"html.parser\")\n",
    "\n",
    "# Extract title\n",
    "title = soup.find(id='productTitle').get_text(strip=True)\n",
    "\n",
    "# Extract price\n",
    "price_element = soup.find('span', class_='a-price')\n",
    "if price_element:\n",
    "    price_whole = price_element.find('span', class_='a-price-whole')\n",
    "    price_fraction = price_element.find('span', class_='a-price-fraction')\n",
    "    if price_whole and price_fraction:\n",
    "        price = f\"${price_whole.get_text(strip=True)}.{price_fraction.get_text(strip=True)}\"\n",
    "    else:\n",
    "        # Fallback if price_fraction is missing\n",
    "        price = price_whole.get_text(strip=True) if price_whole else \"Price not available\"\n",
    "else:\n",
    "    price = \"Price not available\"\n",
    "\n",
    "# Cleanup price text\n",
    "price = price.replace(\"..\", \".\")\n",
    "\n",
    "print(title)\n",
    "print( price)\n"
   ]
  },
  {
   "cell_type": "code",
   "execution_count": null,
   "id": "f9d47f70",
   "metadata": {},
   "outputs": [],
   "source": [
    "price=price.strip()[1:] #this line remove if there is a $sign in the fornt of data \n",
    "title=title.strip()\n",
    "print(title)\n",
    "print(price)\n"
   ]
  },
  {
   "cell_type": "code",
   "execution_count": null,
   "id": "65183875",
   "metadata": {},
   "outputs": [],
   "source": [
    "import datetime \n",
    "\n",
    "today= datetime.date.today()\n",
    "print(today)"
   ]
  },
  {
   "cell_type": "code",
   "execution_count": 5,
   "id": "62835085",
   "metadata": {},
   "outputs": [],
   "source": [
    "import csv\n",
    "\n",
    "header =['title','price','date']\n",
    "data = [title,price,today]\n",
    "\n",
    "with open('AmazonWebScraperDataset.csv', 'w',newline='',encoding='UTF8') as f:\n",
    "    writer=csv.writer(f)\n",
    "    writer.writerow(header)\n",
    "    writer.writerow(data) "
   ]
  },
  {
   "cell_type": "code",
   "execution_count": 6,
   "id": "e51bee08",
   "metadata": {},
   "outputs": [
    {
     "name": "stdout",
     "output_type": "stream",
     "text": [
      "                                               title  price        date\n",
      "0  Funny Got Data MIS Data Systems Business Analy...  16.99  2024-08-03\n"
     ]
    }
   ],
   "source": [
    "import pandas as pd \n",
    "df = pd.read_csv(r\"C:\\Users\\aarja\\AmazonWebScraperDataset.csv\")\n",
    "print(df)"
   ]
  },
  {
   "cell_type": "code",
   "execution_count": 7,
   "id": "bcdef097",
   "metadata": {},
   "outputs": [],
   "source": [
    "# now we are appending data to the csv \n",
    "\n",
    "with open('AmazonWebScraperDataset.csv', 'a+',newline='',encoding='UTF8') as f:\n",
    "    writer=csv.writer(f)\n",
    "    writer.writerow(data)"
   ]
  },
  {
   "cell_type": "code",
   "execution_count": null,
   "id": "e4dce5ce",
   "metadata": {},
   "outputs": [],
   "source": [
    "def check_price():\n",
    "    URL = 'https://www.amazon.com/Funny-Data-Systems-Business-Analyst/dp/B07FNW9FGJ/ref=sr_1_3?dchild=1&keywords=data%2Banalyst%2Btshirt&qid=1626655184&sr=8-3&customId=B0752XJYNL&th=1'\n",
    "\n",
    "    headers = {\n",
    "    \"User-Agent\": \"Mozilla/5.0 (Windows NT 10.0; Win64; x64) AppleWebKit/537.36 (KHTML, like Gecko) Chrome/78.0.3904.108 Safari/537.36\", \n",
    "    \"Accept-Encoding\": \"gzip, deflate\", \n",
    "    \"Accept\": \"text/html,application/xhtml+xml,application/xml;q=0.9,*/*;q=0.8\", \n",
    "    \"DNT\": \"1\", \n",
    "    \"Connection\": \"close\", \n",
    "    \"Upgrade-Insecure-Requests\": \"1\"\n",
    "        }\n",
    "\n",
    "    page = requests.get(URL, headers=headers)\n",
    "    soup = BeautifulSoup(page.content, \"html.parser\")\n",
    "\n",
    "# Extract title\n",
    "    title = soup.find(id='productTitle').get_text(strip=True)\n",
    "\n",
    "# Extract price\n",
    "    price_element = soup.find('span', class_='a-price')\n",
    "    if price_element:\n",
    "            price_whole = price_element.find('span', class_='a-price-whole')\n",
    "            price_fraction = price_element.find('span', class_='a-price-fraction')\n",
    "            if price_whole and price_fraction:\n",
    "                price = f\"${price_whole.get_text(strip=True)}.{price_fraction.get_text(strip=True)}\"\n",
    "            else:\n",
    "        # Fallback if price_fraction is missing\n",
    "                price = price_whole.get_text(strip=True) if price_whole else \"Price not available\"\n",
    "    else:\n",
    "            price = \"Price not available\"\n",
    "\n",
    "# Cleanup price text\n",
    "            price = price.replace(\"..\", \".\")\n",
    "            title=title.strip()\n",
    "    import datetime \n",
    "\n",
    "    today= datetime.date.today()\n",
    "    \n",
    "    with open('AmazonWebScraperDataset.csv', 'a+',newline='',encoding='UTF8') as f:\n",
    "            writer=csv.writer(f)\n",
    "            writer.writerow(data) \n",
    "\n",
    "    \n",
    "print(today) \n",
    "print(title)\n",
    "print(price)  \n",
    "    "
   ]
  },
  {
   "cell_type": "code",
   "execution_count": null,
   "id": "2138f9aa",
   "metadata": {
    "scrolled": false
   },
   "outputs": [],
   "source": [
    "while(True):\n",
    "    check_price()\n",
    "    time.sleep(5) # 1 sec just to see the data has been genrated or not "
   ]
  },
  {
   "cell_type": "code",
   "execution_count": null,
   "id": "6c33c57f",
   "metadata": {},
   "outputs": [],
   "source": [
    "import pandas as pd \n",
    "df = pd.read_csv(r\"C:\\Users\\aarja\\AmazonWebScraperDataset.csv\")\n",
    "print(df)"
   ]
  },
  {
   "cell_type": "code",
   "execution_count": null,
   "id": "2a28af5f",
   "metadata": {},
   "outputs": [],
   "source": []
  }
 ],
 "metadata": {
  "kernelspec": {
   "display_name": "Python 3 (ipykernel)",
   "language": "python",
   "name": "python3"
  },
  "language_info": {
   "codemirror_mode": {
    "name": "ipython",
    "version": 3
   },
   "file_extension": ".py",
   "mimetype": "text/x-python",
   "name": "python",
   "nbconvert_exporter": "python",
   "pygments_lexer": "ipython3",
   "version": "3.11.5"
  }
 },
 "nbformat": 4,
 "nbformat_minor": 5
}

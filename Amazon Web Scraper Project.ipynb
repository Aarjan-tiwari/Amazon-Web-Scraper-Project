{
 "cells": [
  {
   "cell_type": "code",
   "execution_count": 6,
   "id": "40c23c11",
   "metadata": {},
   "outputs": [],
   "source": [
    "# import  Libraries\n",
    "\n",
    "from bs4 import BeautifulSoup\n",
    "import requests\n",
    "import time \n",
    "import datetime\n",
    "\n",
    "import smtplib\n"
   ]
  },
  {
   "cell_type": "code",
   "execution_count": 63,
   "id": "a440ee86",
   "metadata": {},
   "outputs": [
    {
     "name": "stdout",
     "output_type": "stream",
     "text": [
      "\n",
      "                    Funny Got Data MIS Data Systems Business Analyst T-Shirt\n",
      "                   \n",
      "16.99\n"
     ]
    }
   ],
   "source": [
    "# connect to website \n",
    "\n",
    "URL = 'https://www.amazon.com/Funny-Data-Systems-Business-Analyst/dp/B07FNW9FGJ/ref=sr_1_3?dchild=1&keywords=data%2Banalyst%2Btshirt&qid=1626655184&sr=8-3&customId=B0752XJYNL&th=1'\n",
    "\n",
    "headers = {\"User-Agent\": \"Mozilla/5.0 (Windows NT 10.0; Win64; x64) AppleWebKit/537.36 (KHTML, like Gecko) Chrome/78.0.3904.108 Safari/537.36\", \"Accept-Encoding\":\"gzip, deflate\", \"Accept\":\"text/html,application/xhtml+xml,application/xml;q=0.9,*/*;q=0.8\", \"DNT\":\"1\",\"Connection\":\"close\", \"Upgrade-Insecure-Requests\":\"1\"}\n",
    "page =  requests.get(URL,headers=headers)\n",
    "soup1 = BeautifulSoup(page.content, \"html.parser\")\n",
    "soup2 = BeautifulSoup(soup1.prettify(),\"html.parser\")\n",
    "title = soup2.find(id='productTitle').get_text()\n",
    "price_element = soup2.find(id=\"corePriceDisplay_desktop_feature_div\")\n",
    "if price_element:\n",
    "    price_text = price_element.get_text(strip=True)\n",
    "    # Extract the first price\n",
    "    price = price_text.split('$')[1].strip()\n",
    "    price =  price\n",
    "else:\n",
    "    price = None   \n",
    "print(title)\n",
    "print(price)  # This should print  like \"$16.99\"\n",
    "\n",
    "\n",
    "\n"
   ]
  },
  {
   "cell_type": "code",
   "execution_count": 64,
   "id": "f9d47f70",
   "metadata": {},
   "outputs": [
    {
     "name": "stdout",
     "output_type": "stream",
     "text": [
      "Funny Got Data MIS Data Systems Business Analyst T-Shirt\n",
      "16.99\n"
     ]
    },
    {
     "data": {
      "text/plain": [
       "str"
      ]
     },
     "execution_count": 64,
     "metadata": {},
     "output_type": "execute_result"
    }
   ],
   "source": [
    "# price=price.strip()[1:] #this line remove if there is a $sign in the fornt of data \n",
    "title=title.strip()\n",
    "print(title)\n",
    "print(price)\n",
    "type (price)"
   ]
  },
  {
   "cell_type": "code",
   "execution_count": 65,
   "id": "65183875",
   "metadata": {},
   "outputs": [
    {
     "name": "stdout",
     "output_type": "stream",
     "text": [
      "2024-08-03\n"
     ]
    }
   ],
   "source": [
    "import datetime \n",
    "\n",
    "today= datetime.date.today()\n",
    "print(today)"
   ]
  },
  {
   "cell_type": "code",
   "execution_count": 105,
   "id": "62835085",
   "metadata": {},
   "outputs": [],
   "source": [
    "import csv\n",
    "\n",
    "header =['title','price','date']\n",
    "data = [title,price,today]\n",
    "\n",
    "with open('AmazonWebScraperDataset.csv', 'w',newline='',encoding='UTF8') as f:\n",
    "    writer=csv.writer(f)\n",
    "    writer.writerow(header)\n",
    "    writer.writerow(data) "
   ]
  },
  {
   "cell_type": "code",
   "execution_count": null,
   "id": "e51bee08",
   "metadata": {},
   "outputs": [],
   "source": [
    "import pandas as pd \n",
    "df = pd.read_csv(r'C:\\Users\\aarja\\AmazonWebScraperDataset.csv')\n",
    "print(df)"
   ]
  },
  {
   "cell_type": "code",
   "execution_count": 77,
   "id": "bcdef097",
   "metadata": {},
   "outputs": [],
   "source": [
    "# now we are appending data to the csv \n",
    "\n",
    "with open('AmazonWebScraperDataset.csv', 'a+',newline='',encoding='UTF8') as f:\n",
    "    writer=csv.writer(f)\n",
    "    writer.writerow(data)"
   ]
  },
  {
   "cell_type": "code",
   "execution_count": 110,
   "id": "e4dce5ce",
   "metadata": {},
   "outputs": [
    {
     "name": "stdout",
     "output_type": "stream",
     "text": [
      "2024-08-03\n",
      "Funny Got Data MIS Data Systems Business Analyst T-Shirt\n",
      "16.99\n"
     ]
    }
   ],
   "source": [
    "def check_price():\n",
    "    URL = 'https://www.amazon.com/Funny-Data-Systems-Business-Analyst/dp/B07FNW9FGJ/ref=sr_1_3?dchild=1&keywords=data%2Banalyst%2Btshirt&qid=1626655184&sr=8-3&customId=B0752XJYNL&th=1'\n",
    "\n",
    "    headers = {\"User-Agent\": \"Mozilla/5.0 (Windows NT 10.0; Win64; x64) AppleWebKit/537.36 (KHTML, like Gecko) Chrome/78.0.3904.108 Safari/537.36\", \"Accept-Encoding\":\"gzip, deflate\", \"Accept\":\"text/html,application/xhtml+xml,application/xml;q=0.9,*/*;q=0.8\", \"DNT\":\"1\",\"Connection\":\"close\", \"Upgrade-Insecure-Requests\":\"1\"}\n",
    "    page =  requests.get(URL,headers=headers)\n",
    "    soup1 = BeautifulSoup(page.content, \"html.parser\")\n",
    "    soup2 = BeautifulSoup(soup1.prettify(),\"html.parser\")\n",
    "    title = soup2.find(id='productTitle').get_text()\n",
    "    price_element = soup2.find(id=\"corePriceDisplay_desktop_feature_div\")\n",
    "    if price_element:\n",
    "        price_text = price_element.get_text(strip=True)\n",
    "        # Extract the first price\n",
    "        price = price_text.split('$')[1].strip()\n",
    "    \n",
    "    else:\n",
    "        price = None # This should print  like \"$16.99\"\n",
    "   \n",
    "    title=title.strip()\n",
    "    import datetime \n",
    "\n",
    "    today= datetime.date.today()\n",
    "    \n",
    "    with open('AmazonWebScraperDataset.csv', 'a+',newline='',encoding='UTF8') as f:\n",
    "        writer=csv.writer(f)\n",
    "        writer.writerow(data) \n",
    "\n",
    "    \n",
    "print(today) \n",
    "print(title)\n",
    "print(price)  \n",
    "    "
   ]
  },
  {
   "cell_type": "code",
   "execution_count": null,
   "id": "2138f9aa",
   "metadata": {
    "scrolled": false
   },
   "outputs": [],
   "source": [
    "while(True):\n",
    "    check_price()\n",
    "    time.sleep(1) # 1 sec just to see the data has been genrated or not "
   ]
  },
  {
   "cell_type": "code",
   "execution_count": 112,
   "id": "6c33c57f",
   "metadata": {},
   "outputs": [
    {
     "name": "stdout",
     "output_type": "stream",
     "text": [
      "                                                title  price        date\n",
      "0   Funny Got Data MIS Data Systems Business Analy...  16.99  2024-08-03\n",
      "1   Funny Got Data MIS Data Systems Business Analy...  16.99  2024-08-03\n",
      "2   Funny Got Data MIS Data Systems Business Analy...  16.99  2024-08-03\n",
      "3   Funny Got Data MIS Data Systems Business Analy...  16.99  2024-08-03\n",
      "4   Funny Got Data MIS Data Systems Business Analy...  16.99  2024-08-03\n",
      "5   Funny Got Data MIS Data Systems Business Analy...  16.99  2024-08-03\n",
      "6   Funny Got Data MIS Data Systems Business Analy...  16.99  2024-08-03\n",
      "7   Funny Got Data MIS Data Systems Business Analy...  16.99  2024-08-03\n",
      "8   Funny Got Data MIS Data Systems Business Analy...  16.99  2024-08-03\n",
      "9   Funny Got Data MIS Data Systems Business Analy...  16.99  2024-08-03\n",
      "10  Funny Got Data MIS Data Systems Business Analy...  16.99  2024-08-03\n",
      "11  Funny Got Data MIS Data Systems Business Analy...  16.99  2024-08-03\n",
      "12  Funny Got Data MIS Data Systems Business Analy...  16.99  2024-08-03\n",
      "13  Funny Got Data MIS Data Systems Business Analy...  16.99  2024-08-03\n",
      "14  Funny Got Data MIS Data Systems Business Analy...  16.99  2024-08-03\n",
      "15  Funny Got Data MIS Data Systems Business Analy...  16.99  2024-08-03\n",
      "16  Funny Got Data MIS Data Systems Business Analy...  16.99  2024-08-03\n",
      "17  Funny Got Data MIS Data Systems Business Analy...  16.99  2024-08-03\n",
      "18  Funny Got Data MIS Data Systems Business Analy...  16.99  2024-08-03\n",
      "19  Funny Got Data MIS Data Systems Business Analy...  16.99  2024-08-03\n",
      "20  Funny Got Data MIS Data Systems Business Analy...  16.99  2024-08-03\n",
      "21  Funny Got Data MIS Data Systems Business Analy...  16.99  2024-08-03\n",
      "22  Funny Got Data MIS Data Systems Business Analy...  16.99  2024-08-03\n",
      "23  Funny Got Data MIS Data Systems Business Analy...  16.99  2024-08-03\n",
      "24  Funny Got Data MIS Data Systems Business Analy...  16.99  2024-08-03\n",
      "25  Funny Got Data MIS Data Systems Business Analy...  16.99  2024-08-03\n",
      "26  Funny Got Data MIS Data Systems Business Analy...  16.99  2024-08-03\n"
     ]
    }
   ],
   "source": [
    "import pandas as pd \n",
    "df = pd.read_csv(r'C:\\Users\\aarja\\AmazonWebScraperDataset.csv')\n",
    "\n",
    "print(df)"
   ]
  },
  {
   "cell_type": "code",
   "execution_count": null,
   "id": "2a28af5f",
   "metadata": {},
   "outputs": [],
   "source": []
  }
 ],
 "metadata": {
  "kernelspec": {
   "display_name": "Python 3 (ipykernel)",
   "language": "python",
   "name": "python3"
  },
  "language_info": {
   "codemirror_mode": {
    "name": "ipython",
    "version": 3
   },
   "file_extension": ".py",
   "mimetype": "text/x-python",
   "name": "python",
   "nbconvert_exporter": "python",
   "pygments_lexer": "ipython3",
   "version": "3.11.5"
  }
 },
 "nbformat": 4,
 "nbformat_minor": 5
}
